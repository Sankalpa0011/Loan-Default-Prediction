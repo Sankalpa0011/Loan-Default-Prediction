{
 "cells": [
  {
   "cell_type": "markdown",
   "id": "a571c830",
   "metadata": {},
   "source": [
    "# Import Libraries"
   ]
  },
  {
   "cell_type": "code",
   "execution_count": null,
   "id": "7421ea4d",
   "metadata": {},
   "outputs": [],
   "source": [
    "import pandas as pd\n",
    "import numpy as np\n",
    "import seaborn as sns\n",
    "import matplotlib.pyplot as plt\n",
    "from sklearn.model_selection import train_test_split, cross_val_score\n",
    "from sklearn.preprocessing import StandardScaler\n",
    "from sklearn.preprocessing import LabelEncoder\n",
    "from sklearn.feature_selection import mutual_info_classif, SelectKBest\n",
    "from imblearn.over_sampling import SMOTE\n",
    "from sklearn.model_selection import GridSearchCV\n",
    "\n",
    "from sklearn.linear_model import LogisticRegression\n",
    "from sklearn.tree import DecisionTreeClassifier\n",
    "from sklearn.ensemble import RandomForestClassifier\n",
    "from xgboost import XGBClassifier\n",
    "from sklearn.svm import SVC\n",
    "\n",
    "from sklearn.metrics import accuracy_score, classification_report, confusion_matrix, roc_auc_score, roc_curve"
   ]
  },
  {
   "cell_type": "markdown",
   "id": "1e1079d2",
   "metadata": {},
   "source": [
    "# Data Collection and Analysis"
   ]
  },
  {
   "cell_type": "code",
   "execution_count": null,
   "id": "996bfe10",
   "metadata": {},
   "outputs": [],
   "source": [
    "data_descriptions = pd.read_csv('./Datasets/LoanData/data_descriptions.csv')\n",
    "pd.set_option('display.max_colwidth', None)\n",
    "data_descriptions"
   ]
  },
  {
   "cell_type": "code",
   "execution_count": null,
   "id": "9f9ea724",
   "metadata": {},
   "outputs": [],
   "source": [
    "# Load the dataset\n",
    "loan_dataset = pd.read_csv(\"./Datasets/LoanData/train.csv\")\n",
    "loan_dataset.head()"
   ]
  },
  {
   "cell_type": "code",
   "execution_count": null,
   "id": "736c0b0e",
   "metadata": {},
   "outputs": [],
   "source": [
    "# shape of the dataset\n",
    "loan_dataset.shape"
   ]
  },
  {
   "cell_type": "code",
   "execution_count": null,
   "id": "6d1dd5e0",
   "metadata": {},
   "outputs": [],
   "source": [
    "# basic information about the dataset\n",
    "loan_dataset.info()"
   ]
  },
  {
   "cell_type": "code",
   "execution_count": null,
   "id": "ba5fbd0c",
   "metadata": {},
   "outputs": [],
   "source": [
    "# check the missing values\n",
    "loan_dataset.isna().sum()"
   ]
  },
  {
   "cell_type": "code",
   "execution_count": null,
   "id": "7d307a64",
   "metadata": {},
   "outputs": [],
   "source": [
    "# statistical measures\n",
    "loan_dataset.describe()"
   ]
  },
  {
   "cell_type": "markdown",
   "id": "2d5bebfd",
   "metadata": {},
   "source": [
    "# Data Visualization"
   ]
  },
  {
   "cell_type": "code",
   "execution_count": null,
   "id": "20b54693",
   "metadata": {},
   "outputs": [],
   "source": [
    "# Visualize Default percentage\n",
    "default_count = loan_dataset[\"Default\"].value_counts()\n",
    "default_pct = default_count / len(loan_dataset) * 100\n",
    "default_pct\n",
    "\n",
    "# Create pie chart\n",
    "fig, ax = plt.subplots()\n",
    "ax.pie(default_pct, labels=['Loan Not Defaulted', 'Loan Defaulted'], autopct='%1.1f%%')\n",
    "ax.set_title('Loan Default Percentage')\n",
    "plt.show()"
   ]
  },
  {
   "cell_type": "code",
   "execution_count": null,
   "id": "d53bdd73",
   "metadata": {},
   "outputs": [],
   "source": [
    "# Plot the distribution of the target variable \"Default \"\n",
    "sns.countplot(x=\"Default\", data=loan_dataset)\n",
    "plt.title(\"Default Distribution\")\n",
    "plt.xlabel(\"Default\")\n",
    "plt.ylabel(\"Count\")\n",
    "plt.show()"
   ]
  },
  {
   "cell_type": "code",
   "execution_count": null,
   "id": "64e82784",
   "metadata": {},
   "outputs": [],
   "source": [
    "sns.boxplot(x='Default', y='Age', data=loan_dataset)\n",
    "plt.title('Age vs. Loan Default')\n",
    "plt.xlabel('Default')\n",
    "plt.ylabel('Age')\n",
    "plt.show()"
   ]
  },
  {
   "cell_type": "code",
   "execution_count": null,
   "id": "a1911470",
   "metadata": {},
   "outputs": [],
   "source": [
    "# Compares the distribution of loan amounts for defaulted and non-defaulted loans\n",
    "loan_dataset[loan_dataset['Default'] == 0]['LoanAmount'].hist(alpha=0.5, color='blue', bins=30, label='No Default')\n",
    "loan_dataset[loan_dataset['Default'] == 1]['LoanAmount'].hist(alpha=0.5, color='red', bins=30, label='Default')\n",
    "plt.legend()\n",
    "plt.title('Loan Amount Distribution by Default Status')\n",
    "plt.xlabel('Loan Amount')\n",
    "plt.ylabel('Frequency')\n",
    "plt.show()"
   ]
  },
  {
   "cell_type": "code",
   "execution_count": null,
   "id": "25174aac",
   "metadata": {},
   "outputs": [],
   "source": [
    "# Plot for 'Education'\n",
    "sns.countplot(x='Education', hue='Default', data=loan_dataset)\n",
    "plt.title('Education vs. Loan Default')\n",
    "plt.xlabel('Education')\n",
    "plt.ylabel('Count')\n",
    "plt.show()"
   ]
  },
  {
   "cell_type": "code",
   "execution_count": null,
   "id": "ee71dcd4",
   "metadata": {},
   "outputs": [],
   "source": [
    "# Plot for 'MaritalStatus'\n",
    "sns.countplot(x='MaritalStatus', hue='Default', data=loan_dataset)\n",
    "plt.title('Marital Status vs. Loan Default')\n",
    "plt.xlabel('Marital Status')\n",
    "plt.ylabel('Count')\n",
    "plt.show()"
   ]
  },
  {
   "cell_type": "code",
   "execution_count": null,
   "id": "396f9faa",
   "metadata": {},
   "outputs": [],
   "source": [
    "# Plot for 'EmploymentType'\n",
    "sns.countplot(x='EmploymentType', hue='Default', data=loan_dataset)\n",
    "plt.title('Employment Type vs. Loan Default')\n",
    "plt.xlabel('Employment Type')\n",
    "plt.ylabel('Count')\n",
    "plt.show()"
   ]
  },
  {
   "cell_type": "code",
   "execution_count": null,
   "id": "ee1a203e",
   "metadata": {},
   "outputs": [],
   "source": [
    "# Plot for 'HasMortgage'\n",
    "sns.countplot(x='HasMortgage', hue='Default', data=loan_dataset)\n",
    "plt.title('Has Mortgage vs. Loan Default')\n",
    "plt.xlabel('Has Mortgage')\n",
    "plt.ylabel('Count')\n",
    "plt.show()"
   ]
  },
  {
   "cell_type": "code",
   "execution_count": null,
   "id": "8f60af99",
   "metadata": {},
   "outputs": [],
   "source": [
    "# Plot for 'HasDependents'\n",
    "sns.countplot(x='HasDependents', hue='Default', data=loan_dataset)\n",
    "plt.title('Has Dependents vs. Loan Default')\n",
    "plt.xlabel('Has Dependents')\n",
    "plt.ylabel('Count')\n",
    "plt.show()"
   ]
  },
  {
   "cell_type": "code",
   "execution_count": null,
   "id": "233aae5c",
   "metadata": {},
   "outputs": [],
   "source": [
    "# Plot for 'LoanPurpose'\n",
    "sns.countplot(x='LoanPurpose', hue='Default', data=loan_dataset)\n",
    "plt.title('Loan Purpose vs. Loan Default')\n",
    "plt.xlabel('Loan Purpose')\n",
    "plt.ylabel('Count')\n",
    "plt.show()"
   ]
  },
  {
   "cell_type": "code",
   "execution_count": null,
   "id": "2bd3564c",
   "metadata": {},
   "outputs": [],
   "source": [
    "# Plot for 'HasCoSigner'\n",
    "sns.countplot(x='HasCoSigner', hue='Default', data=loan_dataset)\n",
    "plt.title('Has Co-Signer vs. Loan Default')\n",
    "plt.xlabel('Has Co-Signer')\n",
    "plt.ylabel('Count')\n",
    "plt.show()"
   ]
  },
  {
   "cell_type": "code",
   "execution_count": null,
   "id": "befb499b",
   "metadata": {},
   "outputs": [],
   "source": [
    "# Shows the distribution of a feature, such as interest rate, for defaulted and non-defaulted loans\n",
    "plt.figure(figsize=(10,6))\n",
    "sns.kdeplot(loan_dataset[loan_dataset['Default'] == 0]['InterestRate'], fill=True, color='blue', label='No Default')\n",
    "sns.kdeplot(loan_dataset[loan_dataset['Default'] == 1]['InterestRate'], fill=True, color='red', label='Default')\n",
    "plt.title('Interest Rate Distribution by Default Status')\n",
    "plt.xlabel('Interest Rate')\n",
    "plt.ylabel('Density')\n",
    "plt.legend()\n",
    "plt.show()"
   ]
  },
  {
   "cell_type": "markdown",
   "id": "980007ed",
   "metadata": {},
   "source": [
    "## Encoding Data"
   ]
  },
  {
   "cell_type": "code",
   "execution_count": null,
   "id": "57e846e5",
   "metadata": {},
   "outputs": [],
   "source": [
    "# Convert categorical columns to numeric using LabelEncoder\n",
    "le = LabelEncoder()\n",
    "loan_dataset = loan_dataset.apply(lambda x: le.fit_transform(x) if x.dtype == 'object' else x)"
   ]
  },
  {
   "cell_type": "code",
   "execution_count": null,
   "id": "ce0fcadc",
   "metadata": {},
   "outputs": [],
   "source": [
    "loan_dataset.head()"
   ]
  },
  {
   "cell_type": "markdown",
   "id": "1ca22fe3",
   "metadata": {},
   "source": [
    "## Correlation"
   ]
  },
  {
   "cell_type": "code",
   "execution_count": null,
   "id": "80e6f63f",
   "metadata": {},
   "outputs": [],
   "source": [
    "loan_dataset = loan_dataset.drop(columns=[\"LoanID\"], axis=1)"
   ]
  },
  {
   "cell_type": "code",
   "execution_count": null,
   "id": "07f428f7",
   "metadata": {},
   "outputs": [],
   "source": [
    "loan_dataset.corr()"
   ]
  },
  {
   "cell_type": "code",
   "execution_count": null,
   "id": "7900d9ba",
   "metadata": {},
   "outputs": [],
   "source": [
    "# heatmap for correlation\n",
    "plt.figure(figsize=(12,8))\n",
    "sns.heatmap(data=loan_dataset.corr(), fmt=\".3f\", annot=True, annot_kws={\"size\": 8}, cmap=\"Blues\")\n",
    "plt.title(\"Correlation\")\n",
    "plt.show()"
   ]
  },
  {
   "cell_type": "markdown",
   "id": "258396e3",
   "metadata": {},
   "source": [
    "## Separate Data into Features and label"
   ]
  },
  {
   "cell_type": "code",
   "execution_count": null,
   "id": "fe3be980",
   "metadata": {},
   "outputs": [],
   "source": [
    "x = loan_dataset.drop(columns=[\"Default\"], axis=1)\n",
    "y = loan_dataset[\"Default\"]"
   ]
  },
  {
   "cell_type": "markdown",
   "id": "54820cd6",
   "metadata": {},
   "source": [
    "## Imbalance Data Handling"
   ]
  },
  {
   "cell_type": "code",
   "execution_count": null,
   "id": "e4aa75e5",
   "metadata": {},
   "outputs": [],
   "source": [
    "y.value_counts()"
   ]
  },
  {
   "cell_type": "code",
   "execution_count": null,
   "id": "b14e3557",
   "metadata": {},
   "outputs": [],
   "source": [
    "y.value_counts().plot(kind=\"bar\")\n",
    "plt.title(\"Value Counts (Before Smote)\")\n",
    "plt.show()"
   ]
  },
  {
   "cell_type": "code",
   "execution_count": null,
   "id": "1a3d4a5b",
   "metadata": {},
   "outputs": [],
   "source": [
    "# SMOTE\n",
    "smote = SMOTE()"
   ]
  },
  {
   "cell_type": "code",
   "execution_count": null,
   "id": "e92dd9e0",
   "metadata": {},
   "outputs": [],
   "source": [
    "x_smote, y_smote = smote.fit_resample(x, y)"
   ]
  },
  {
   "cell_type": "code",
   "execution_count": null,
   "id": "9109644d",
   "metadata": {},
   "outputs": [],
   "source": [
    "y_smote.value_counts()"
   ]
  },
  {
   "cell_type": "code",
   "execution_count": null,
   "id": "8dfa0ac3",
   "metadata": {},
   "outputs": [],
   "source": [
    "y_smote.value_counts().plot(kind=\"bar\")\n",
    "plt.title(\"Value Counts (After Smote)\")\n",
    "plt.show()"
   ]
  },
  {
   "cell_type": "code",
   "execution_count": null,
   "id": "4099ecf7",
   "metadata": {},
   "outputs": [],
   "source": [
    "x = x_smote\n",
    "y = y_smote"
   ]
  },
  {
   "cell_type": "markdown",
   "id": "107dbc9b",
   "metadata": {},
   "source": [
    "## Data Standardization"
   ]
  },
  {
   "cell_type": "code",
   "execution_count": null,
   "id": "41c6341d",
   "metadata": {},
   "outputs": [],
   "source": [
    "scaler = StandardScaler()"
   ]
  },
  {
   "cell_type": "code",
   "execution_count": null,
   "id": "ef753c67",
   "metadata": {},
   "outputs": [],
   "source": [
    "x = scaler.fit_transform(x_smote)"
   ]
  },
  {
   "cell_type": "code",
   "execution_count": null,
   "id": "c12ef7e1",
   "metadata": {},
   "outputs": [],
   "source": [
    "x"
   ]
  },
  {
   "cell_type": "markdown",
   "id": "6b72e810",
   "metadata": {},
   "source": [
    "## Split Dataset Into Train and Test"
   ]
  },
  {
   "cell_type": "code",
   "execution_count": null,
   "id": "17ff72cd",
   "metadata": {},
   "outputs": [],
   "source": [
    "x_train, x_test, y_train, y_test = train_test_split(x, y, test_size=0.2, stratify=y, random_state=42)"
   ]
  },
  {
   "cell_type": "markdown",
   "id": "20bbddd7",
   "metadata": {},
   "source": [
    "# Train and Evaluation The Model"
   ]
  },
  {
   "cell_type": "markdown",
   "id": "128dd38b",
   "metadata": {},
   "source": [
    "### Logistic Regression Model"
   ]
  },
  {
   "cell_type": "code",
   "execution_count": null,
   "id": "c97a7546",
   "metadata": {},
   "outputs": [],
   "source": [
    "logistic_model = LogisticRegression(random_state=42)\n",
    "logistic_model.fit(x_train, y_train)\n",
    "\n",
    "# Predictions\n",
    "y_pred_train_lr = logistic_model.predict(x_train)\n",
    "y_pred_test_lr = logistic_model.predict(x_test)\n",
    "\n",
    "# Accuracy and classification report for Logistic Regression\n",
    "print(\"Logistic Regression:\")\n",
    "print(\"Train Accuracy:\", accuracy_score(y_train, y_pred_train_lr))\n",
    "print(\"Test Accuracy:\", accuracy_score(y_test, y_pred_test_lr))\n",
    "print(\"Classification Report for Test Data:\")\n",
    "print(classification_report(y_test, y_pred_test_lr))"
   ]
  },
  {
   "cell_type": "markdown",
   "id": "6fc2df21",
   "metadata": {},
   "source": [
    "### Decision Tree Model"
   ]
  },
  {
   "cell_type": "code",
   "execution_count": null,
   "id": "16baa3fc",
   "metadata": {},
   "outputs": [],
   "source": [
    "dt_model = DecisionTreeClassifier(random_state=42)\n",
    "dt_model.fit(x_train, y_train)\n",
    "\n",
    "# Predictions\n",
    "y_pred_train_dt = dt_model.predict(x_train)\n",
    "y_pred_test_dt = dt_model.predict(x_test)\n",
    "\n",
    "# Accuracy and classification report for Decision Tree\n",
    "print(\"\\nDecision Tree:\")\n",
    "print(\"Train Accuracy:\", accuracy_score(y_train, y_pred_train_dt))\n",
    "print(\"Test Accuracy:\", accuracy_score(y_test, y_pred_test_dt))\n",
    "print(\"Classification Report for Test Data:\")\n",
    "print(classification_report(y_test, y_pred_test_dt))"
   ]
  },
  {
   "cell_type": "markdown",
   "id": "9d404e44",
   "metadata": {},
   "source": [
    "### Random Forest model"
   ]
  },
  {
   "cell_type": "code",
   "execution_count": null,
   "id": "ebf7b618",
   "metadata": {},
   "outputs": [],
   "source": [
    "random_forest_model = RandomForestClassifier(random_state=42)\n",
    "random_forest_model.fit(x_train, y_train)\n",
    "\n",
    "# Predictions\n",
    "y_pred_train_rf = random_forest_model.predict(x_train)\n",
    "y_pred_test_rf = random_forest_model.predict(x_test)\n",
    "\n",
    "# Accuracy and classification report for Random Forest\n",
    "print(\"\\nRandom Forest:\")\n",
    "print(\"Train Accuracy:\", accuracy_score(y_train, y_pred_train_rf))\n",
    "print(\"Test Accuracy:\", accuracy_score(y_test, y_pred_test_rf))\n",
    "print(\"Classification Report for Test Data:\")\n",
    "print(classification_report(y_test, y_pred_test_rf))\n",
    "print(\"Confusion Matrix for Test Data:\")\n",
    "print(confusion_matrix(y_test, y_pred_test_rf))"
   ]
  },
  {
   "cell_type": "markdown",
   "id": "c6f62a73",
   "metadata": {},
   "source": [
    "#### Cross Validation"
   ]
  },
  {
   "cell_type": "code",
   "execution_count": null,
   "id": "bc0bb6fa",
   "metadata": {},
   "outputs": [],
   "source": [
    "cv_scores = cross_val_score(xgb_model, x, y, cv=5, scoring='accuracy')\n",
    "\n",
    "print(f\"Cross-validation scores: {cv_scores}\")\n",
    "print(f\"Mean cross-validation score: {cv_scores.mean()}\")"
   ]
  },
  {
   "cell_type": "markdown",
   "id": "7d73f8aa",
   "metadata": {},
   "source": [
    "#### Hypher Parameter Optimization"
   ]
  },
  {
   "cell_type": "code",
   "execution_count": null,
   "id": "fd1ff812",
   "metadata": {},
   "outputs": [],
   "source": [
    "\"\"\"\n",
    "\n",
    "param_grid = {\n",
    "    'n_estimators': [50, 100, 200],\n",
    "    'max_depth': [10, 20, None],\n",
    "    'max_features': ['auto', 'sqrt', 'log2'],\n",
    "    'min_samples_split': [2, 5, 10],\n",
    "    'min_samples_leaf': [1, 2, 4],\n",
    "}\n",
    "\n",
    "grid_search = GridSearchCV(estimator=random_forest_model, param_grid=param_grid, cv=5, scoring='accuracy', n_jobs=-1)\n",
    "grid_search.fit(x_train, y_train)\n",
    "\n",
    "print(f\"Best parameters: {grid_search.best_params_}\")\n",
    "print(f\"Best cross-validation score: {grid_search.best_score_}\")\n",
    "\n",
    "# Train the model with the best parameters\n",
    "random_forest_model = grid_search.best_estimator_\n",
    "random_forest_model.fit(x_train, y_train)\n",
    "\n",
    "# Evaluate the model\n",
    "y_pred_train_rf = random_forest_model.predict(x_train)\n",
    "y_pred_test_rf = random_forest_model.predict(x_test)\n",
    "\n",
    "train_accuracy = accuracy_score(y_train, y_pred_train_rf)\n",
    "test_accuracy = accuracy_score(y_test, y_pred_test_rf)\n",
    "\n",
    "print(f\"Train Accuracy: {train_accuracy}\")\n",
    "print(f\"Test Accuracy: {test_accuracy}\")\n",
    "\n",
    "\"\"\""
   ]
  },
  {
   "cell_type": "code",
   "execution_count": null,
   "id": "cdff4bf4",
   "metadata": {},
   "outputs": [],
   "source": [
    "# heatmap for confusion matrix\n",
    "sns.heatmap(data=confusion_matrix(y_test, y_pred_test_rf), fmt=\"d\", annot=True, cmap=\"Blues\")\n",
    "plt.title(\"Confusion Matrix Random Forest Model\")\n",
    "plt.xlabel(\"Predicted\")\n",
    "plt.ylabel(\"Actual\")\n",
    "plt.show()"
   ]
  },
  {
   "cell_type": "code",
   "execution_count": null,
   "id": "2ae076a4",
   "metadata": {},
   "outputs": [],
   "source": [
    "# plotting ROC Curve\n",
    "y_test_prob = random_forest_model.predict_proba(x_test)[:, 1]\n",
    "fpr, tpr, _ = roc_curve(y_test, y_test_prob)\n",
    "roc_auc = roc_auc_score(y_test, y_test_prob)\n",
    "\n",
    "plt.plot(fpr, tpr, color='blue', label=f'ROC Curve (area = {roc_auc:.2f})')\n",
    "plt.plot([0, 1], [0, 1], color='gray', linestyle='--')\n",
    "plt.xlabel('False Positive Rate')\n",
    "plt.ylabel('True Positive Rate')\n",
    "plt.title('Receiver Operating Characteristic (ROC) Curve (Random Forest Model)')\n",
    "plt.legend()\n",
    "plt.show()"
   ]
  },
  {
   "cell_type": "markdown",
   "id": "b350bded",
   "metadata": {},
   "source": [
    "### XGBoost Model"
   ]
  },
  {
   "cell_type": "code",
   "execution_count": null,
   "id": "8dc04b7a",
   "metadata": {},
   "outputs": [],
   "source": [
    "xgb_model = XGBClassifier(random_state=42)\n",
    "xgb_model.fit(x_train, y_train)\n",
    "\n",
    "# Predictions\n",
    "y_pred_train_xgb = xgb_model.predict(x_train)\n",
    "y_pred_test_xgb = xgb_model.predict(x_test)\n",
    "\n",
    "# Accuracy and classification report for XGBoost\n",
    "print(\"\\nXGBoot:\")\n",
    "print(\"Train Accuracy:\", accuracy_score(y_train, y_pred_train_xgb))\n",
    "print(\"Test Accuracy:\", accuracy_score(y_test, y_pred_test_xgb))\n",
    "print(\"Classification Report for Test Data:\")\n",
    "print(classification_report(y_test, y_pred_test_xgb))\n",
    "print(\"Confusion Matrix for Test Data:\")\n",
    "print(confusion_matrix(y_test, y_pred_test_xgb))"
   ]
  },
  {
   "cell_type": "markdown",
   "id": "26def156",
   "metadata": {},
   "source": [
    "#### Cross Validation"
   ]
  },
  {
   "cell_type": "code",
   "execution_count": null,
   "id": "1f88c5f3",
   "metadata": {},
   "outputs": [],
   "source": [
    "cv_scores = cross_val_score(xgb_model, x, y, cv=5, scoring='accuracy')\n",
    "\n",
    "print(f\"Cross-validation scores: {cv_scores}\")\n",
    "print(f\"Mean cross-validation score: {cv_scores.mean()}\")"
   ]
  },
  {
   "cell_type": "markdown",
   "id": "5fe19bc1",
   "metadata": {},
   "source": [
    "#### Hipher Parameter Optimization"
   ]
  },
  {
   "cell_type": "code",
   "execution_count": null,
   "id": "f428d795",
   "metadata": {},
   "outputs": [],
   "source": [
    "\"\"\"\n",
    "\n",
    "param_grid = {\n",
    "    'n_estimators': [100, 200, 300],\n",
    "    'max_depth': [3, 5, 7],\n",
    "    'learning_rate': [0.01, 0.1, 0.2],\n",
    "    'subsample': [0.8, 0.9, 1.0],\n",
    "    'colsample_bytree': [0.8, 0.9, 1.0],\n",
    "}\n",
    "\n",
    "grid_search = GridSearchCV(estimator=xgb_model, param_grid=param_grid, cv=5, scoring='accuracy', n_jobs=-1)\n",
    "grid_search.fit(x_train, y_train)\n",
    "\n",
    "print(f\"Best parameters: {grid_search.best_params_}\")\n",
    "print(f\"Best cross-validation score: {grid_search.best_score_}\")\n",
    "\n",
    "xgb_model = grid_search.best_estimator_\n",
    "\n",
    "# Evaluate the model with the best parameters\n",
    "y_pred_train_xgb = xgb_model.predict(x_train)\n",
    "y_pred_test_xgb = xgb_model.predict(x_test)\n",
    "\n",
    "train_accuracy = accuracy_score(y_train, y_pred_train_xgb)\n",
    "test_accuracy = accuracy_score(y_test, y_pred_test_xgb)\n",
    "\n",
    "print(f\"Train Accuracy: {train_accuracy}\")\n",
    "print(f\"Test Accuracy: {test_accuracy}\")\n",
    "\n",
    "\"\"\""
   ]
  },
  {
   "cell_type": "code",
   "execution_count": null,
   "id": "8b07f471",
   "metadata": {},
   "outputs": [],
   "source": [
    "# heatmap for confusion matrix\n",
    "sns.heatmap(data=confusion_matrix(y_test, y_pred_test_xgb), fmt=\"d\", annot=True, cmap=\"Blues\")\n",
    "plt.title(\"Confusion Matrix XGBoost Model\")\n",
    "plt.xlabel(\"Predicted\")\n",
    "plt.ylabel(\"Actual\")\n",
    "plt.show()"
   ]
  },
  {
   "cell_type": "code",
   "execution_count": null,
   "id": "4583c125",
   "metadata": {},
   "outputs": [],
   "source": [
    "# plotting ROC Curve\n",
    "y_test_prob = xgb_model.predict_proba(x_test)[:, 1]\n",
    "fpr, tpr, _ = roc_curve(y_test, y_test_prob)\n",
    "roc_auc = roc_auc_score(y_test, y_test_prob)\n",
    "\n",
    "plt.plot(fpr, tpr, color='blue', label=f'ROC Curve (area = {roc_auc:.2f})')\n",
    "plt.plot([0, 1], [0, 1], color='gray', linestyle='--')\n",
    "plt.xlabel('False Positive Rate')\n",
    "plt.ylabel('True Positive Rate')\n",
    "plt.title('Receiver Operating Characteristic (ROC) Curve (XGBoost Model)')\n",
    "plt.legend()\n",
    "plt.show()"
   ]
  },
  {
   "cell_type": "markdown",
   "id": "27b4c2d4",
   "metadata": {},
   "source": [
    "# Extract and visualize feature importance"
   ]
  },
  {
   "cell_type": "code",
   "execution_count": null,
   "id": "3a064a1f",
   "metadata": {},
   "outputs": [],
   "source": [
    "# Get the column names after standardizing\n",
    "feature_names = x_smote.columns\n",
    "feature_names"
   ]
  },
  {
   "cell_type": "code",
   "execution_count": null,
   "id": "1d5ab2a0",
   "metadata": {},
   "outputs": [],
   "source": [
    "# Create a DataFrame with feature names for standardized x\n",
    "x = pd.DataFrame(x, columns=feature_names)"
   ]
  },
  {
   "cell_type": "markdown",
   "id": "86180726",
   "metadata": {},
   "source": [
    "### Random Forest Model"
   ]
  },
  {
   "cell_type": "code",
   "execution_count": null,
   "id": "c540ad9f",
   "metadata": {},
   "outputs": [],
   "source": [
    "# Get feature importances\n",
    "importances = random_forest_model.feature_importances_\n",
    "\n",
    "# Create a DataFrame for visualization\n",
    "feature_importances = pd.DataFrame({'Feature': x.columns, 'Importance': importances})\n",
    "print(feature_importances)\n",
    "\n",
    "# Sort by importance\n",
    "feature_importances = feature_importances.sort_values(by='Importance', ascending=False)\n",
    "\n",
    "# Visualize the feature importances\n",
    "plt.figure(figsize=(12, 8))\n",
    "sns.barplot(x='Importance', y='Feature', data=feature_importances, orient=\"h\")\n",
    "plt.title('Feature Importances in Random Forest Model')\n",
    "plt.show()"
   ]
  },
  {
   "cell_type": "markdown",
   "id": "6ec5c3d1",
   "metadata": {},
   "source": [
    "### XGBoost Model "
   ]
  },
  {
   "cell_type": "code",
   "execution_count": null,
   "id": "05d52bd4",
   "metadata": {},
   "outputs": [],
   "source": [
    "# Get feature importances\n",
    "importances = xgb_model.feature_importances_\n",
    "\n",
    "# Create a DataFrame for visualization\n",
    "feature_importances = pd.DataFrame({'Feature': x.columns, 'Importance': importances})\n",
    "print(feature_importances)\n",
    "\n",
    "# Sort by importance\n",
    "feature_importances = feature_importances.sort_values(by='Importance', ascending=False)\n",
    "\n",
    "# Visualize the feature importances\n",
    "plt.figure(figsize=(12, 8))\n",
    "sns.barplot(x='Importance', y='Feature', data=feature_importances, orient=\"h\")\n",
    "plt.title('Feature Importances in XGBoost Model')\n",
    "plt.show()"
   ]
  },
  {
   "cell_type": "markdown",
   "id": "1df0bb8d",
   "metadata": {},
   "source": [
    "## Making a Predictive System"
   ]
  },
  {
   "cell_type": "code",
   "execution_count": null,
   "id": "9016284a",
   "metadata": {},
   "outputs": [],
   "source": [
    "input_data = (33,65056,91351,423,42,2,3.87,60,0.32,2,0,1,1,1,1,0)\n",
    "\n",
    "# change the input data to numpy array\n",
    "input_data_as_numpy_array = np.asarray(input_data)\n",
    "\n",
    "# reshape the array as we are predicting for one instanse\n",
    "input_data_reshaped = input_data_as_numpy_array.reshape(1, -1)\n",
    "\n",
    "# standardize the input data\n",
    "std_data = scaler.transform(input_data_reshaped)\n",
    "# print(std_data)\n",
    "\n",
    "prediction = xgb_model.predict(std_data)\n",
    "print(prediction)\n",
    "\n",
    "if (prediction[0] == 0):\n",
    "    print(\"The person will not default on the loan.\")\n",
    "else:\n",
    "    print(\"The person will default on the loan.\")"
   ]
  },
  {
   "cell_type": "markdown",
   "id": "7bdbd362",
   "metadata": {},
   "source": [
    "## Make Predictions (test.csv)"
   ]
  },
  {
   "cell_type": "code",
   "execution_count": null,
   "id": "aac2437a",
   "metadata": {},
   "outputs": [],
   "source": [
    "# Load the test dataset\n",
    "loan_test_dataset = pd.read_csv(\"./Datasets/LoanData/test.csv\")\n",
    "loan_test_dataset.head()"
   ]
  },
  {
   "cell_type": "code",
   "execution_count": null,
   "id": "5a3aa4cd",
   "metadata": {},
   "outputs": [],
   "source": [
    "# shape of the datset\n",
    "loan_test_dataset.shape"
   ]
  },
  {
   "cell_type": "code",
   "execution_count": null,
   "id": "c44a7503",
   "metadata": {},
   "outputs": [],
   "source": [
    "# check missing values\n",
    "loan_test_dataset.isna().sum()"
   ]
  },
  {
   "cell_type": "code",
   "execution_count": null,
   "id": "3c1cb803",
   "metadata": {},
   "outputs": [],
   "source": [
    "# basic information about the dataset\n",
    "loan_test_dataset.info()"
   ]
  },
  {
   "cell_type": "code",
   "execution_count": null,
   "id": "6f373f27",
   "metadata": {},
   "outputs": [],
   "source": [
    "# drop LoanID column\n",
    "loan_test_data = loan_test_dataset.drop(columns=[\"LoanID\"], axis=1)"
   ]
  },
  {
   "cell_type": "code",
   "execution_count": null,
   "id": "7f42d83e",
   "metadata": {},
   "outputs": [],
   "source": [
    "# Convert categorical columns to numeric using LabelEncoder\n",
    "le = LabelEncoder()\n",
    "loan_test_data = loan_test_data.apply(lambda x: le.fit_transform(x) if x.dtype == 'object' else x)"
   ]
  },
  {
   "cell_type": "code",
   "execution_count": null,
   "id": "d67c053f",
   "metadata": {},
   "outputs": [],
   "source": [
    "loan_test_data.head()"
   ]
  },
  {
   "cell_type": "code",
   "execution_count": null,
   "id": "38967fd0",
   "metadata": {},
   "outputs": [],
   "source": [
    "x_new = loan_test_data"
   ]
  },
  {
   "cell_type": "markdown",
   "id": "50eeae87",
   "metadata": {},
   "source": [
    "## Test Data Standardization"
   ]
  },
  {
   "cell_type": "code",
   "execution_count": null,
   "id": "87bcdfb2",
   "metadata": {},
   "outputs": [],
   "source": [
    "x_test_new = scaler.fit_transform(x_new)\n",
    "x_test_new"
   ]
  },
  {
   "cell_type": "markdown",
   "id": "dea80eaa",
   "metadata": {},
   "source": [
    "## Test Data Prediction (Random Forest Model)"
   ]
  },
  {
   "cell_type": "code",
   "execution_count": null,
   "id": "dd3be089",
   "metadata": {},
   "outputs": [],
   "source": [
    "# Predictions of \"test.csv\" dataset\n",
    "predictions = random_forest_model.predict(x_test_new)\n",
    "predictions"
   ]
  },
  {
   "cell_type": "code",
   "execution_count": null,
   "id": "d6fe6904",
   "metadata": {},
   "outputs": [],
   "source": [
    "predictions.shape"
   ]
  },
  {
   "cell_type": "code",
   "execution_count": null,
   "id": "eb7f08e2",
   "metadata": {},
   "outputs": [],
   "source": [
    "loan_test_data[\"Predicted Defaults\"] = predictions"
   ]
  },
  {
   "cell_type": "code",
   "execution_count": null,
   "id": "3523ae0e",
   "metadata": {},
   "outputs": [],
   "source": [
    "loan_test_data.head()"
   ]
  },
  {
   "cell_type": "code",
   "execution_count": null,
   "id": "fdc06d60",
   "metadata": {},
   "outputs": [],
   "source": [
    "loan_test_data[\"Predicted Defaults\"].value_counts()"
   ]
  },
  {
   "cell_type": "code",
   "execution_count": null,
   "id": "cc1c726d",
   "metadata": {},
   "outputs": [],
   "source": [
    "# Add \"Predicted Defaults\" column to the \"loan_test_dataset\"\n",
    "loan_test_dataset[\"Predicted Defaults\"] = predictions"
   ]
  },
  {
   "cell_type": "code",
   "execution_count": null,
   "id": "4e404fec",
   "metadata": {},
   "outputs": [],
   "source": [
    "loan_test_dataset.head()"
   ]
  },
  {
   "cell_type": "markdown",
   "id": "c0134b6c",
   "metadata": {},
   "source": [
    "## Test Data Prediction (XGBoost Model)"
   ]
  },
  {
   "cell_type": "code",
   "execution_count": null,
   "id": "056e2643",
   "metadata": {},
   "outputs": [],
   "source": [
    "# Predictions of \"test.csv\" dataset\n",
    "predictions = xgb_model.predict(x_test_new)\n",
    "predictions"
   ]
  },
  {
   "cell_type": "code",
   "execution_count": null,
   "id": "2e0359e1",
   "metadata": {},
   "outputs": [],
   "source": [
    "predictions.shape"
   ]
  },
  {
   "cell_type": "code",
   "execution_count": null,
   "id": "0797d5ea",
   "metadata": {},
   "outputs": [],
   "source": [
    "loan_test_data[\"Predicted Defaults\"] = predictions"
   ]
  },
  {
   "cell_type": "code",
   "execution_count": null,
   "id": "1ed60b56",
   "metadata": {},
   "outputs": [],
   "source": [
    "loan_test_data.head()"
   ]
  },
  {
   "cell_type": "code",
   "execution_count": null,
   "id": "0541ff65",
   "metadata": {},
   "outputs": [],
   "source": [
    "loan_test_data[\"Predicted Defaults\"].value_counts()"
   ]
  },
  {
   "cell_type": "code",
   "execution_count": null,
   "id": "8586635e",
   "metadata": {},
   "outputs": [],
   "source": [
    "# Add \"Predicted Defaults\" column to the \"loan_test_dataset\"\n",
    "loan_test_dataset[\"Predicted Defaults\"] = predictions"
   ]
  },
  {
   "cell_type": "code",
   "execution_count": null,
   "id": "df2b246e",
   "metadata": {},
   "outputs": [],
   "source": [
    "loan_test_dataset.head()"
   ]
  }
 ],
 "metadata": {
  "kernelspec": {
   "display_name": "Python 3 (ipykernel)",
   "language": "python",
   "name": "python3"
  },
  "language_info": {
   "codemirror_mode": {
    "name": "ipython",
    "version": 3
   },
   "file_extension": ".py",
   "mimetype": "text/x-python",
   "name": "python",
   "nbconvert_exporter": "python",
   "pygments_lexer": "ipython3",
   "version": "3.11.4"
  }
 },
 "nbformat": 4,
 "nbformat_minor": 5
}
